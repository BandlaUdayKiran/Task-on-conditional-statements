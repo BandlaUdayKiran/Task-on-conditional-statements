{
 "cells": [
  {
   "cell_type": "markdown",
   "id": "df8738ee",
   "metadata": {},
   "source": [
    "# List Comprehension:"
   ]
  },
  {
   "cell_type": "markdown",
   "id": "9b53aa14",
   "metadata": {},
   "source": [
    "### 1) Easy: Create a list comprehension that generates a list of squares of numbers from 1 to 10.\n",
    "Output: [1, 4, 9, 16, 25, 36, 49, 64, 81, 100]"
   ]
  },
  {
   "cell_type": "code",
   "execution_count": 1,
   "id": "b128ee31",
   "metadata": {},
   "outputs": [
    {
     "data": {
      "text/plain": [
       "[0, 1, 4, 9, 16, 25, 36, 49, 64, 81, 100]"
      ]
     },
     "execution_count": 1,
     "metadata": {},
     "output_type": "execute_result"
    }
   ],
   "source": [
    "x=[ele**2 for ele in range(0,11)]\n",
    "x"
   ]
  },
  {
   "cell_type": "markdown",
   "id": "d8de7c8b",
   "metadata": {},
   "source": [
    "### 2)Medium: Given a list of words, create a list comprehension to filter out words that are longer than 5 characters.\n",
    "Input: ['apple', 'banana', 'cherry', 'date', 'elderberry']\n",
    "\n",
    "Output: ['apple', 'cherry', 'date']"
   ]
  },
  {
   "cell_type": "code",
   "execution_count": 6,
   "id": "5621bbea",
   "metadata": {},
   "outputs": [
    {
     "name": "stdout",
     "output_type": "stream",
     "text": [
      "['apple', 'date']\n"
     ]
    }
   ],
   "source": [
    "fruits = ['apple', 'banana', 'cherry', 'date', 'elderberry']\n",
    "y= [i for i in fruits if len(i) <=5]\n",
    "print(y)"
   ]
  },
  {
   "cell_type": "markdown",
   "id": "9779fb29",
   "metadata": {},
   "source": [
    "# Lists:"
   ]
  },
  {
   "cell_type": "markdown",
   "id": "e73bdf4d",
   "metadata": {},
   "source": [
    "### 1)Easy: Create a list containing the numbers 1 to 5 and then append the number 6 to it.\n",
    "Output: [1, 2, 3, 4, 5, 6]"
   ]
  },
  {
   "cell_type": "code",
   "execution_count": 7,
   "id": "27b1e50d",
   "metadata": {},
   "outputs": [
    {
     "name": "stdout",
     "output_type": "stream",
     "text": [
      "[1, 2, 3, 4, 5, 6]\n"
     ]
    }
   ],
   "source": [
    "num=[1,2,3,4,5]\n",
    "num.append(6)\n",
    "print(num)"
   ]
  },
  {
   "cell_type": "markdown",
   "id": "c2f720c3",
   "metadata": {},
   "source": [
    "### 2)Medium: Given two lists, merge them into a single list without duplicates.\n",
    "Input:\n",
    "List 1: [1, 2, 3, 4]\n",
    "\n",
    "List 2: [3, 4, 5, 6]\n",
    "\n",
    "output: [1, 2, 3, 4, 5, 6]\n"
   ]
  },
  {
   "cell_type": "code",
   "execution_count": 8,
   "id": "721bbe60",
   "metadata": {},
   "outputs": [
    {
     "name": "stdout",
     "output_type": "stream",
     "text": [
      "[1, 2, 3, 4, 5, 6]\n"
     ]
    }
   ],
   "source": [
    "a=[1, 2, 3, 4]\n",
    "b=[3, 4, 5, 6]\n",
    "c=list(set(a+b))\n",
    "print(c)"
   ]
  },
  {
   "cell_type": "markdown",
   "id": "a03255c2",
   "metadata": {},
   "source": [
    "# Map:"
   ]
  },
  {
   "cell_type": "markdown",
   "id": "99d2d095",
   "metadata": {},
   "source": [
    "### 1)Easy: Use the map function to double each element in a list.\n",
    "Input: [1, 2, 3, 4, 5]\n",
    "\n",
    "Output: [2, 4, 6, 8, 10]"
   ]
  },
  {
   "cell_type": "code",
   "execution_count": 9,
   "id": "62f9d944",
   "metadata": {},
   "outputs": [
    {
     "name": "stdout",
     "output_type": "stream",
     "text": [
      "[2, 4, 6, 8, 10]\n"
     ]
    }
   ],
   "source": [
    "x=[1,2,3,4,5]\n",
    "y=list(map(lambda x:x*2,x))\n",
    "print(y)"
   ]
  },
  {
   "cell_type": "markdown",
   "id": "707de7c0",
   "metadata": {},
   "source": [
    "### 2)Medium: Use the map function to convert a list of strings to uppercase.\n",
    "Input: ['apple', 'banana', 'cherry']\n",
    "    \n",
    "Output: ['APPLE', 'BANANA', 'CHERRY']"
   ]
  },
  {
   "cell_type": "code",
   "execution_count": 13,
   "id": "1016d94c",
   "metadata": {},
   "outputs": [
    {
     "name": "stdout",
     "output_type": "stream",
     "text": [
      "['APPLE', 'BANANA', 'CHERRY']\n"
     ]
    }
   ],
   "source": [
    "fruits = ['apple','banana','cherry']\n",
    "upper = lambda x:x.upper()\n",
    "result= map(upper,fruits)\n",
    "print(list(result))"
   ]
  },
  {
   "cell_type": "markdown",
   "id": "47317301",
   "metadata": {},
   "source": [
    "# Filter:"
   ]
  },
  {
   "cell_type": "markdown",
   "id": "269659ec",
   "metadata": {},
   "source": [
    "### 1)Easy: Use the filter function to get all even numbers from a list.\n",
    "Input: [1, 2, 3, 4, 5, 6]\n",
    "    \n",
    "Output: [2, 4, 6]"
   ]
  },
  {
   "cell_type": "code",
   "execution_count": 14,
   "id": "53ee4f9c",
   "metadata": {},
   "outputs": [
    {
     "data": {
      "text/plain": [
       "[2, 4, 6]"
      ]
     },
     "execution_count": 14,
     "metadata": {},
     "output_type": "execute_result"
    }
   ],
   "source": [
    "a = [1,2,3,4,5,6]\n",
    "b = lambda x: True if x%2 ==0 else False\n",
    "c= list(filter(b, a))\n",
    "c"
   ]
  },
  {
   "cell_type": "markdown",
   "id": "dbdcae65",
   "metadata": {},
   "source": [
    "### 2)Medium: Use the filter function to get all words from a list that start with the letter 'b'.\n",
    "Input: ['apple', 'banana', 'cherry', 'blueberry', 'date']\n",
    "\n",
    "Output: ['banana', 'blueberry']"
   ]
  },
  {
   "cell_type": "code",
   "execution_count": 15,
   "id": "800fb023",
   "metadata": {},
   "outputs": [
    {
     "data": {
      "text/plain": [
       "['banana', 'blueberry']"
      ]
     },
     "execution_count": 15,
     "metadata": {},
     "output_type": "execute_result"
    }
   ],
   "source": [
    "x = ['apple', 'banana', 'cherry', 'blueberry', 'date']\n",
    "y = lambda x: True if x.startswith('b') else False\n",
    "z = list(filter(y, x))\n",
    "z"
   ]
  },
  {
   "cell_type": "markdown",
   "id": "68741d85",
   "metadata": {},
   "source": [
    "# Functions:"
   ]
  },
  {
   "cell_type": "markdown",
   "id": "c4447159",
   "metadata": {},
   "source": [
    "### 1)Easy: Write a function called add that takes two numbers as input and returns their sum.\n",
    "Input: add(3, 4)\n",
    "\n",
    "Output: 7"
   ]
  },
  {
   "cell_type": "code",
   "execution_count": 16,
   "id": "92923919",
   "metadata": {},
   "outputs": [
    {
     "data": {
      "text/plain": [
       "7"
      ]
     },
     "execution_count": 16,
     "metadata": {},
     "output_type": "execute_result"
    }
   ],
   "source": [
    "def add(x,y):\n",
    "    return x+y\n",
    "add(3,4)"
   ]
  },
  {
   "cell_type": "markdown",
   "id": "3978e93a",
   "metadata": {},
   "source": [
    "### 2)Medium: Write a function called calculate_average that takes a list of numbers as input and returns the average (mean) of those numbers.\n",
    "\n",
    "Input: calculate_average([1, 2, 3, 4, 5])\n",
    "\n",
    "Output: 3.0"
   ]
  },
  {
   "cell_type": "code",
   "execution_count": 17,
   "id": "2abd05f1",
   "metadata": {},
   "outputs": [
    {
     "name": "stdout",
     "output_type": "stream",
     "text": [
      "3.0\n"
     ]
    }
   ],
   "source": [
    "def average(x):\n",
    "    print(sum(x)/len(x))\n",
    "average([1,2,3,4,5])"
   ]
  }
 ],
 "metadata": {
  "kernelspec": {
   "display_name": "Python 3 (ipykernel)",
   "language": "python",
   "name": "python3"
  },
  "language_info": {
   "codemirror_mode": {
    "name": "ipython",
    "version": 3
   },
   "file_extension": ".py",
   "mimetype": "text/x-python",
   "name": "python",
   "nbconvert_exporter": "python",
   "pygments_lexer": "ipython3",
   "version": "3.11.4"
  }
 },
 "nbformat": 4,
 "nbformat_minor": 5
}
