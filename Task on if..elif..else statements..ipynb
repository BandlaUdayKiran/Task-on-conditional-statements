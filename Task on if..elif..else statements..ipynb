{
 "cells": [
  {
   "cell_type": "markdown",
   "id": "70bc2ca6",
   "metadata": {},
   "source": [
    "### checking the eligibility of interview based on programming language and experience:\n"
   ]
  },
  {
   "cell_type": "code",
   "execution_count": 28,
   "id": "c73b33f5",
   "metadata": {},
   "outputs": [
    {
     "name": "stdout",
     "output_type": "stream",
     "text": [
      "enter the programming language you know: python\n",
      "enter your experience: 4\n",
      "congratulations, you are eligible for interview\n",
      "0.0\n"
     ]
    }
   ],
   "source": [
    "import time\n",
    "from time import time\n",
    "programming_languages = input('enter the programming language you know: ')\n",
    "experience = int(input('enter your experience: '))\n",
    "start = time()\n",
    "if programming_languages != 'python':\n",
    "    print(\"you are not eligible for interview due to programming languages\")\n",
    "elif experience <3:\n",
    "    print(\"you are not eligible for interview due to less experience\") \n",
    "else:\n",
    "    print(\"congratulations, you are eligible for interview\")\n",
    "end = time()\n",
    "print(end-start)"
   ]
  },
  {
   "cell_type": "code",
   "execution_count": 31,
   "id": "c65f42c8",
   "metadata": {},
   "outputs": [
    {
     "name": "stdout",
     "output_type": "stream",
     "text": [
      "enter the programming language you know: java\n",
      "enter your experience: 4\n",
      "you are not eligible for interview due to programming languages\n",
      "0.00109100341796875\n"
     ]
    }
   ],
   "source": [
    "import time\n",
    "from time import time\n",
    "programming_languages = input('enter the programming language you know: ')\n",
    "experience = int(input('enter your experience: '))\n",
    "start = time()\n",
    "if programming_languages != 'python':\n",
    "    print(\"you are not eligible for interview due to programming languages\")\n",
    "elif experience <3:\n",
    "    print(\"you are not eligible for interview due to less experience\") \n",
    "else:\n",
    "    print(\"congratulations, you are eligible for interview\")\n",
    "end = time()\n",
    "print(end-start)"
   ]
  },
  {
   "cell_type": "code",
   "execution_count": 32,
   "id": "617d3ac7",
   "metadata": {},
   "outputs": [
    {
     "name": "stdout",
     "output_type": "stream",
     "text": [
      "enter the programming language you know: python\n",
      "enter your experience: 2\n",
      "you are not eligible for interview due to less experience\n",
      "0.0\n"
     ]
    }
   ],
   "source": [
    "import time\n",
    "from time import time\n",
    "programming_languages = input('enter the programming language you know: ')\n",
    "experience = int(input('enter your experience: '))\n",
    "start = time()\n",
    "if programming_languages != 'python':\n",
    "    print(\"you are not eligible for interview due to programming languages\")\n",
    "elif experience <3:\n",
    "    print(\"you are not eligible for interview due to less experience\") \n",
    "else:\n",
    "    print(\"congratulations, you are eligible for interview\")\n",
    "end = time()\n",
    "print(end-start)"
   ]
  },
  {
   "cell_type": "markdown",
   "id": "611aed9a",
   "metadata": {},
   "source": [
    "### Nested if:"
   ]
  },
  {
   "cell_type": "code",
   "execution_count": 27,
   "id": "bb18705f",
   "metadata": {},
   "outputs": [
    {
     "name": "stdout",
     "output_type": "stream",
     "text": [
      "enter the programming language you know: python\n",
      "enter your experience: 4\n",
      "congratulations, you are eligible for interview\n",
      "0.0010025501251220703\n"
     ]
    }
   ],
   "source": [
    "import time\n",
    "from time import time\n",
    "programming_languages = input('enter the programming language you know: ')\n",
    "experience = int(input('enter your experience: '))\n",
    "start = time()\n",
    "if programming_languages =='python':\n",
    "    if experience>=3:\n",
    "         print(\"congratulations, you are eligible for interview\")\n",
    "    else:\n",
    "        print(\"you are not eligible for interview due to less experience\")\n",
    "else:\n",
    "    print(\"you are not eligible for interview due to programming languages\")\n",
    "end = time()\n",
    "print(end-start)"
   ]
  },
  {
   "cell_type": "code",
   "execution_count": 33,
   "id": "417cd444",
   "metadata": {},
   "outputs": [
    {
     "name": "stdout",
     "output_type": "stream",
     "text": [
      "enter the programming language you know: java\n",
      "enter your experience: 4\n",
      "you are not eligible for interview due to programming languages\n",
      "0.0010991096496582031\n"
     ]
    }
   ],
   "source": [
    "import time\n",
    "from time import time\n",
    "programming_languages = input('enter the programming language you know: ')\n",
    "experience = int(input('enter your experience: '))\n",
    "start = time()\n",
    "if programming_languages =='python':\n",
    "    if experience>=3:\n",
    "         print(\"congratulations, you are eligible for interview\")\n",
    "    else:\n",
    "        print(\"you are not eligible for interview due to less experience\")\n",
    "else:\n",
    "    print(\"you are not eligible for interview due to programming languages\")\n",
    "end = time()\n",
    "print(end-start)"
   ]
  },
  {
   "cell_type": "code",
   "execution_count": 34,
   "id": "2606ce19",
   "metadata": {},
   "outputs": [
    {
     "name": "stdout",
     "output_type": "stream",
     "text": [
      "enter the programming language you know: python\n",
      "enter your experience: 2\n",
      "you are not eligible for interview due to less experience\n",
      "0.0010089874267578125\n"
     ]
    }
   ],
   "source": [
    "import time\n",
    "from time import time\n",
    "programming_languages = input('enter the programming language you know: ')\n",
    "experience = int(input('enter your experience: '))\n",
    "start = time()\n",
    "if programming_languages =='python':\n",
    "    if experience>=3:\n",
    "         print(\"congratulations, you are eligible for interview\")\n",
    "    else:\n",
    "        print(\"you are not eligible for interview due to less experience\")\n",
    "else:\n",
    "    print(\"you are not eligible for interview due to programming languages\")\n",
    "end = time()\n",
    "print(end-start)"
   ]
  },
  {
   "cell_type": "markdown",
   "id": "e4cb4171",
   "metadata": {},
   "source": [
    "### Another approach of above method:\n"
   ]
  },
  {
   "cell_type": "code",
   "execution_count": 30,
   "id": "349b9117",
   "metadata": {},
   "outputs": [
    {
     "name": "stdout",
     "output_type": "stream",
     "text": [
      "enter the programming language you know: python\n",
      "enter your experience: 4\n",
      "congratulations, you are eligible for interview\n",
      "0.0\n"
     ]
    }
   ],
   "source": [
    "import time\n",
    "from time import time\n",
    "programming_languages = input('enter the programming language you know: ')\n",
    "experience = int(input('enter your experience: '))\n",
    "start = time()\n",
    "if programming_languages =='python' and experience>=3:\n",
    "    print(\"congratulations, you are eligible for interview\")\n",
    "else:\n",
    "    print(\"you are not eligible for interview due to programming languages\")\n",
    "end = time()\n",
    "print(end-start)"
   ]
  },
  {
   "cell_type": "code",
   "execution_count": 35,
   "id": "c4fc296e",
   "metadata": {},
   "outputs": [
    {
     "name": "stdout",
     "output_type": "stream",
     "text": [
      "enter the programming language you know: java\n",
      "enter your experience: 4\n",
      "you are not eligible for interview due to programming languages\n",
      "0.0010540485382080078\n"
     ]
    }
   ],
   "source": [
    "import time\n",
    "from time import time\n",
    "programming_languages = input('enter the programming language you know: ')\n",
    "experience = int(input('enter your experience: '))\n",
    "start = time()\n",
    "if programming_languages =='python' and experience>=3:\n",
    "    print(\"congratulations, you are eligible for interview\")\n",
    "else:\n",
    "    print(\"you are not eligible for interview due to programming languages\")\n",
    "end = time()\n",
    "print(end-start)"
   ]
  },
  {
   "cell_type": "code",
   "execution_count": null,
   "id": "c57ec447",
   "metadata": {},
   "outputs": [],
   "source": []
  }
 ],
 "metadata": {
  "kernelspec": {
   "display_name": "Python 3 (ipykernel)",
   "language": "python",
   "name": "python3"
  },
  "language_info": {
   "codemirror_mode": {
    "name": "ipython",
    "version": 3
   },
   "file_extension": ".py",
   "mimetype": "text/x-python",
   "name": "python",
   "nbconvert_exporter": "python",
   "pygments_lexer": "ipython3",
   "version": "3.11.3"
  }
 },
 "nbformat": 4,
 "nbformat_minor": 5
}
